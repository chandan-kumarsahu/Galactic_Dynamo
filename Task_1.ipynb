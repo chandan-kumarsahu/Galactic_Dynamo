{
 "cells": [
  {
   "cell_type": "markdown",
   "metadata": {},
   "source": [
    "<h1><center>GALACTIC DYNAMO</center></h1>\n",
    "\n",
    "This project is a part of the term project given in course P464 Plamsa Physics and Magnetohydrodynamics taught in Spring 2024 at NISER Bhubaneswar.\n",
    "\n",
    "Submitted by: Chandan Kumar Sahu, Integrated MSc. SPS batch 19\n",
    "\n",
    "Supervised by: Dr. Luke R. Chamandy, SPS, NISER\n",
    "\n"
   ]
  },
  {
   "cell_type": "markdown",
   "metadata": {},
   "source": [
    "# Contents\n",
    "1. Introduction\n",
    "2. Theory\n",
    "    1. Derivation of necessary equations\n",
    "3. Numerical solution to Galactic Magnetic Fields\n",
    "    1. Problem Statement\n",
    "    2. Numerical solution\n",
    "    3. Magnetic field evolution with free boundary conditions\n",
    "    4. Isolated boundary conditions"
   ]
  },
  {
   "cell_type": "markdown",
   "metadata": {},
   "source": [
    "# 1 - Introduction\n",
    "\n",
    "Write something here"
   ]
  },
  {
   "cell_type": "markdown",
   "metadata": {},
   "source": [
    "# 2 - Theory\n",
    "\n",
    "Write something here"
   ]
  },
  {
   "cell_type": "markdown",
   "metadata": {},
   "source": [
    "### 2.1 - Derivation of the necessary equations\n",
    "\n",
    "We have the mean-field induction equation as \n",
    "$$ \\dfrac{\\partial \\bar{\\mathbf{B}}}{\\partial t} = \\nabla \\times \\left[ \\bar{\\mathbf{V}} \\times \\bar{\\mathbf{B}} + \\mathcal{E} - \\eta \\left( \\nabla \\times \\bar{\\mathbf{B}} \\right) \\right] $$\n",
    "where $\\mathcal{E} = \\left( \\alpha \\bar{\\mathbf{B}} \\right) - \\eta_t \\left( \\nabla \\times \\bar{\\mathbf{B}} \\right)$\n",
    "\n",
    "We will solve the equations in the cylindrical coordinates (r, $\\phi$, z) with the origin at the galactic centre and the z-axis parallel to the galactic angular velocity. However, to simplify things, lets make some approximations.\n",
    "\n",
    "1. Omit the terms involving $\\bar{\\mathbf{V}} \\times \\bar{\\mathbf{B}}$ and $\\alpha$. We will land up on just the diffusion equation.\n",
    "$$ \\dfrac{\\partial \\bar{\\mathbf{B}}}{\\partial t} = - \\nabla \\times \\left[ \\eta_T \\left( \\nabla \\times \\bar{\\mathbf{B}} \\right) \\right] $$\n",
    "where $\\eta_T = \\eta + \\eta_t$\n",
    "\n",
    "2. Take $\\eta_T$ independent of $\\bar{\\mathbf{B}}$. Our equation becomes\n",
    "$$ \\dfrac{\\partial \\bar{\\mathbf{B}}}{\\partial t} = - \\eta_T \\left[ \\nabla \\times \\left( \\nabla \\times \\bar{\\mathbf{B}} \\right) \\right] $$\n",
    "But $\\nabla \\times \\left( \\nabla \\times \\bar{\\mathbf{B}} \\right) = \\nabla \\left( \\nabla \\cdot \\bar{\\mathbf{B}} \\right) - \\nabla^2 \\bar{\\mathbf{B}} $ and $\\nabla \\cdot \\bar{\\mathbf{B}} = 0$ (Gauss's Law), so we finally have\n",
    "$$ \\boxed{ \\dfrac{\\partial \\bar{\\mathbf{B}}}{\\partial t} = \\eta_T \\nabla^2 \\bar{\\mathbf{B}} }$$\n",
    "\n",
    "This is the Fickian diffusion equation. We will solve this equation numerically.\n"
   ]
  },
  {
   "cell_type": "markdown",
   "metadata": {},
   "source": [
    "In cylindrical coordinates, the $\\nabla^2B$ becomes\n",
    "\n",
    "$$ \\begin{aligned}\n",
    "\\nabla^2 \\mathbf{B} = & \\left[ \\frac{\\partial}{\\partial r} \\left( \\frac{1}{r} \\frac{\\partial}{\\partial r} \\left( r B_r \\right) \\right) + \\frac{1}{r^2} \\frac{\\partial^2 B_r}{\\partial \\phi^2} + \\frac{\\partial^2 B_r}{\\partial z^2} - \\frac{2}{r^2} \\frac{\\partial B_\\phi}{\\partial \\phi} \\right] \\mathbf{\\hat{r}} \\\\\n",
    "& + \\left[ \\frac{\\partial}{\\partial r} \\left( \\frac{1}{r} \\frac{\\partial}{\\partial r} \\left( r B_\\phi \\right) \\right) + \\frac{1}{r^2} \\frac{\\partial^2 B_\\phi}{\\partial \\phi^2} + \\frac{\\partial^2 B_\\phi}{\\partial z^2}+\\frac{2}{r^2} \\frac{\\partial B_r}{\\partial \\phi} \\right] \\mathbf{\\hat{\\phi}} \\\\\n",
    "& + \\left[\\frac{1}{r} \\frac{\\partial}{\\partial r}\\left(r \\frac{\\partial B_z}{\\partial r}\\right)+\\frac{1}{r^2} \\frac{\\partial^2 B_z}{\\partial \\phi^2}+\\frac{\\partial^2 B_z}{\\partial z^2}\\right] \\mathbf{\\hat{z}} \n",
    "\\end{aligned} $$\n",
    "\n",
    "So we get the final component-wise equations as\n",
    "$$ \\begin{aligned}\n",
    "    \\frac{\\partial \\bar{B}_r}{\\partial t} &= \\eta_T \\left[ \\frac{\\partial}{\\partial r} \\left( \\frac{1}{r} \\frac{\\partial}{\\partial r} \\left( r B_r \\right) \\right) + \\frac{1}{r^2} \\frac{\\partial^2 B_r}{\\partial \\phi^2} + \\frac{\\partial^2 B_r}{\\partial z^2} - \\frac{2}{r^2} \\frac{\\partial B_\\phi}{\\partial \\phi} \\right] \\\\\n",
    "    \\frac{\\partial \\bar{B}_\\phi}{\\partial t} &= \\eta_T \\left[ \\frac{\\partial}{\\partial r} \\left( \\frac{1}{r} \\frac{\\partial}{\\partial r} \\left( r B_\\phi \\right) \\right) + \\frac{1}{r^2} \\frac{\\partial^2 B_\\phi}{\\partial \\phi^2} + \\frac{\\partial^2 B_\\phi}{\\partial z^2}+\\frac{2}{r^2} \\frac{\\partial B_r}{\\partial \\phi} \\right] \\\\\n",
    "    \\frac{\\partial \\bar{B}_z}{\\partial t} &= \\eta_T \\left[\\frac{1}{r} \\frac{\\partial}{\\partial r}\\left(r \\frac{\\partial B_z}{\\partial r}\\right)+\\frac{1}{r^2} \\frac{\\partial^2 B_z}{\\partial \\phi^2}+\\frac{\\partial^2 B_z}{\\partial z^2}\\right] \n",
    "\\end{aligned} $$\n",
    "\n",
    "Since the problem statement in the project aims to solve only in the z-direction, we remove all radial or azimuthal variations of the magnetic field $\\left(\\dfrac{\\partial }{\\partial r} = \\dfrac{\\partial }{\\partial \\phi} = 0 \\right)$. \n",
    "\n",
    "We are now left with these simple equations to solve, i.e., the Fickian diffusion equations.\n",
    "$$ \\boxed{ \\frac{\\partial \\bar{B}_r}{\\partial t} = \\eta_T \\frac{\\partial^2 \\bar{B}_r}{\\partial z^2} } \\qquad \\qquad \\qquad \\boxed{ \\frac{\\partial \\bar{B}_\\phi}{\\partial t} = \\eta_T \\frac{\\partial^2 \\bar{B}_\\phi}{\\partial z^2} } \\qquad \\qquad \\qquad \\boxed{ \\frac{\\partial \\bar{B}_z}{\\partial t} = \\eta_T \\frac{\\partial^2 \\bar{B}_z}{\\partial z^2} } $$\n",
    "\n"
   ]
  },
  {
   "cell_type": "markdown",
   "metadata": {},
   "source": [
    "# 3 - Numerical Solution to Galactic magnetic Fields\n",
    "\n",
    "Write something here\n"
   ]
  },
  {
   "cell_type": "markdown",
   "metadata": {},
   "source": [
    "### 3.1 - Problem Statement\n",
    "\n",
    "Solve the diffusion equation in the z-direction.\n",
    "* Explore the evolution of the magnetic field magnitude and of the exponential decay rate.\n",
    "* Explore the evolution of the spatial solution for $B_r$ and $B_\\phi$, and of the pitch angle of the mean magnetic field p.\n",
    "* Explore how different boundary conditions affect the results.\n",
    "* Explore how different seed fields affect the results."
   ]
  },
  {
   "cell_type": "markdown",
   "metadata": {},
   "source": [
    "### 3.2 - Numerical solution\n",
    "\n",
    "Write something here\n"
   ]
  },
  {
   "cell_type": "markdown",
   "metadata": {},
   "source": [
    "Let's first define the function to solve the heat diffusion equation using Crank-Nicolson method. \n",
    "\n",
    "We need to specify the boundary conditions first. The guiding matrices need to be defined for solving the system.\n",
    "Here we have written two different boundary conditions, one for free boundaries and another for isolated boundaries. \n"
   ]
  },
  {
   "cell_type": "markdown",
   "metadata": {},
   "source": [
    "Now we define the Crank-Nicholson semi-implicit algorithm to find the solution.\n",
    "This algorithm is very stable compared to other explicit methods such as Runge-Kutta or Euler methods.\n",
    "Here we take the normalized boundaries, i.e., the values have been normalized to $-1<z<1$"
   ]
  },
  {
   "cell_type": "markdown",
   "metadata": {},
   "source": [
    "We now define the plotting function"
   ]
  },
  {
   "cell_type": "markdown",
   "metadata": {},
   "source": [
    "We now move to the solution. \n",
    "\n",
    "### 3.3 - Magnetic field evolution with free boundary conditions\n",
    "\n",
    "Write something here\n"
   ]
  },
  {
   "cell_type": "markdown",
   "metadata": {},
   "source": [
    "### Values\n",
    "$z$: The typical thickness of a thin disk is ~200 pc. For solving numerically, we normalize the solutions to -1 to 1, hence $-1<z<1$. \n",
    "\n",
    "For $\\eta_T$, we need to calculate its value in he normlization units.\n",
    "$$ \\eta_T = \\dfrac{1}{3} \\tau v_{\\text{rms}}^2 $$\n",
    "\n",
    "We have, for a typical galaxy, $\\tau \\approx 1-10$ Myr and $v_{\\text{rms}} \\approx 10^4$ km/s\n",
    "$$ \\begin{aligned}\n",
    "\\eta_T &= \\dfrac{1}{3} \\times 10 \\text{ Myrs} \\times (10 \\text{ km/s})^2 \\\\\n",
    "&= \\dfrac{100}{3} \\times \\text{ Myrs} \\times  \\dfrac{\\text{ km}^2}{\\text{s}^2} \\\\\n",
    "&= \\dfrac{100}{3} \\times \\text{ Myrs} \\times  \\left( \\dfrac{\\text{ km} \\times 100 \\text{ pc}}{3.086\\times 10^{15}\\text{ km}} \\right)^2 \\left(\\dfrac{3.154\\times 10^{13} \\text{ s}}{\\text{s} \\times \\text{Myr}} \\right)^2 \\\\\n",
    "&= \\dfrac{100}{3} \\times \\left( \\dfrac{3.154\\times 10^{13}}{3.086\\times 10^{15}} \\right)^2 \\times \\text{ (100 pc)}^2/\\text{ Myr} \\\\\n",
    "&= 3.48 \\times 10^{-3}\\text{ (100 pc)}^2/\\text{ Myr}\n",
    "\\end{aligned} $$\n",
    "\n",
    "Hence, we use the following values\n",
    "$$ -1<z<1 \\qquad \\qquad \\text{ and } \\qquad \\qquad \\eta_T = 3.48 \\times 10^{-3}\\text{ (100 pc)}^2/\\text{ Myr} $$\n"
   ]
  },
  {
   "cell_type": "markdown",
   "metadata": {},
   "source": [
    "#### 3.3.1 - Symmetric initial condition\n",
    "Let us start with a symmetric initial condition, say a gaussian magnetic field which has a maxima at the midplane.\n"
   ]
  },
  {
   "cell_type": "code",
   "execution_count": null,
   "metadata": {},
   "outputs": [],
   "source": [
    "import matplotlib.pyplot as plt\n",
    "import numpy as np\n",
    "from my_code import *\n",
    "from plotting import *"
   ]
  },
  {
   "cell_type": "code",
   "execution_count": null,
   "metadata": {},
   "outputs": [],
   "source": [
    "def init_cond_Br(x):\n",
    "    return 1-x**2\n",
    "def init_cond_Bphi(x):\n",
    "    return np.cos(np.pi/2*x)**2\n",
    "\n",
    "plt.figure(figsize=(11, 3.5))\n",
    "\n",
    "z = np.linspace(-1, 1, 101)\n",
    "\n",
    "plt.subplot(121)\n",
    "plt.plot(z, init_cond_Br(z))\n",
    "plt.xlabel(r'$z$')\n",
    "plt.ylabel(r'$B_r$')\n",
    "plt.title(r'Parabolic seed field '+'\\n'+r'$ y = 1-x^2$')\n",
    "\n",
    "plt.subplot(122)\n",
    "plt.plot(z, init_cond_Bphi(z))\n",
    "plt.xlabel(r'$z$')\n",
    "plt.ylabel(r'$B_{\\phi}$')\n",
    "plt.title(r'Cos square seed field '+'\\n'+r'$ y = \\cos^2(\\pi x/2)$')\n",
    "\n",
    "plt.suptitle('INITIAL CONDITIONS FOR MAGNETIC FIELD COMPONENTS')\n",
    "plt.tight_layout(pad=1)\n",
    "plt.show()"
   ]
  },
  {
   "cell_type": "markdown",
   "metadata": {},
   "source": [
    "The final solution is then calculated and plotted."
   ]
  },
  {
   "cell_type": "code",
   "execution_count": null,
   "metadata": {},
   "outputs": [],
   "source": [
    "def source_term(x, t):\n",
    "    return 0 # 10 * np.sin(np.pi * x) * np.exp(-0.1 * t)\n",
    "\n",
    "# Constants and parameters\n",
    "eta_T = 3.48e-3    # magnetic diffusivity\n",
    "t_max = 400     # total simulation time\n",
    "z_min = -1.0     # minimum thickness of the disc\n",
    "z_max = 1.0     # thickness of the disc\n",
    "dt = 1       # time step\n",
    "dz = 0.01       # spatial step in z direction\n",
    "\n",
    "# Solve the diffusion equation in radial direction\n",
    "solution_r, spatial_grid, time_grid = crank_nicolson_diffusion(z_min, z_max, t_max, dz, dt, eta_T, init_cond_Br, source_term, diff_matrix_free_boundary)\n",
    "# Solve the diffusion equation in azimuthal direction\n",
    "solution_phi, spatial_grid, time_grid = crank_nicolson_diffusion(z_min, z_max, t_max, dz, dt, eta_T, init_cond_Bphi, source_term, diff_matrix_free_boundary)\n",
    "\n",
    "# Plot the diffusion equation solution\n",
    "plot_diff(time_grid, spatial_grid, solution_r, solution_phi)\n",
    "\n",
    "plt.show()\n"
   ]
  },
  {
   "cell_type": "markdown",
   "metadata": {},
   "source": [
    "### Calculation of magnitude of B and pitch angle"
   ]
  },
  {
   "cell_type": "code",
   "execution_count": null,
   "metadata": {},
   "outputs": [],
   "source": [
    "\n",
    "B, pitch = get_B_and_pitch(solution_r, solution_phi)\n",
    "plot_pitch(time_grid, spatial_grid, B, pitch)\n",
    "plt.show()\n"
   ]
  },
  {
   "cell_type": "markdown",
   "metadata": {},
   "source": [
    "### Decay rate calculation"
   ]
  },
  {
   "cell_type": "code",
   "execution_count": null,
   "metadata": {},
   "outputs": [],
   "source": [
    "B_mid = np.log(B[int(len(spatial_grid)/2), :])\n",
    "\n",
    "# get the slope of the logplot for the last 20 points\n",
    "t_fit = time_grid[-50:]\n",
    "B_fit = B_mid[-50:]\n",
    "m, c = np.polyfit(t_fit, B_fit, 1)\n",
    "\n",
    "# Plot the magnetic field strength at midplane\n",
    "plt.figure(figsize=(6, 3))\n",
    "plt.plot(time_grid, B_mid)\n",
    "plt.plot(t_fit, B_fit, 'o', label=r'Slope ($\\gamma$) = {:.3e}'.format(m))\n",
    "plt.xlabel('Time (Myr)')\n",
    "plt.ylabel('Magnetic Field Strength at midplane')\n",
    "plt.title('B at midplane')\n",
    "plt.grid()\n",
    "plt.legend()\n",
    "plt.show()\n"
   ]
  },
  {
   "cell_type": "markdown",
   "metadata": {},
   "source": [
    "#### 3.3.2 - Antisymmetric initial condition\n",
    "Now let us start with an anti-symmetric case, where $B_z (z<0) = -B_z (z>0)$. We can use derivative of gaussian profile as shown in the figure below. Here, the magnetic field is zero at the midplane and but has positive and negative magnitudes in the upper and lower parts of the galactic disk respectively. \n",
    "\n",
    "Negative magnitudes correspond to reversal in the direction of the magnetic field.\n"
   ]
  },
  {
   "cell_type": "code",
   "execution_count": null,
   "metadata": {},
   "outputs": [],
   "source": [
    "def init_cond_Br(x):\n",
    "    return -2*x*np.sin(2*np.pi*x)\n",
    "def init_cond_Bphi(x):\n",
    "    # return np.sin(2*np.pi*x)\n",
    "    return 0.75 - 0.5*x**2 + 0.25*np.cos(5*np.pi*x)\n",
    "\n",
    "plt.figure(figsize=(11, 3.5))\n",
    "\n",
    "z = np.linspace(-1, 1, 100)\n",
    "plt.subplot(121)\n",
    "plt.plot(z, init_cond_Br(z))\n",
    "plt.xlabel(r'$z$')\n",
    "plt.ylabel(r'$B_r$')\n",
    "plt.title(r'Algebraic-sinusoidal seed field '+'\\n'+r'$ y = -2x\\sin(2\\pi x)$')\n",
    "\n",
    "plt.subplot(122)\n",
    "plt.plot(z, init_cond_Bphi(z))\n",
    "plt.xlabel(r'$z$')\n",
    "plt.ylabel(r'$B_{\\phi}$')\n",
    "plt.title(r'Sinusoidal seed field '+'\\n'+r'$ y = \\sin(2\\pi x)$')\n",
    "\n",
    "plt.suptitle('INITIAL CONDITIONS FOR MAGNETIC FIELD COMPONENTS')\n",
    "plt.tight_layout(pad=1)\n",
    "plt.show()"
   ]
  },
  {
   "cell_type": "code",
   "execution_count": null,
   "metadata": {},
   "outputs": [],
   "source": [
    "def source_term(x, t):\n",
    "    return 0 # 10 * np.sin(np.pi * x) * np.exp(-0.1 * t)\n",
    "\n",
    "# Constants and parameters\n",
    "eta_T = 3.48e-3    # magnetic diffusivity\n",
    "t_max = 100     # total simulation time\n",
    "z_min = -1.0     # minimum thickness of the disc\n",
    "z_max = 1.0     # thickness of the disc\n",
    "dt = 0.1       # time step\n",
    "dz = 0.01       # spatial step in z direction\n",
    "\n",
    "# Solve the diffusion equation in radial direction\n",
    "solution_r, spatial_grid, time_grid = crank_nicolson_diffusion(z_min, z_max, t_max, dz, dt, eta_T, init_cond_Br, source_term, diff_matrix_free_boundary)\n",
    "# Solve the diffusion equation in azimuthal direction\n",
    "solution_phi, spatial_grid, time_grid = crank_nicolson_diffusion(z_min, z_max, t_max, dz, dt, eta_T, init_cond_Bphi, source_term, diff_matrix_free_boundary)\n",
    "\n",
    "# Plot the diffusion equation solution\n",
    "plot_diff(time_grid, spatial_grid, solution_r, solution_phi)\n",
    "\n",
    "plt.show()\n"
   ]
  },
  {
   "cell_type": "markdown",
   "metadata": {},
   "source": [
    "### Calculation of magnitude of B and pitch angle"
   ]
  },
  {
   "cell_type": "code",
   "execution_count": null,
   "metadata": {},
   "outputs": [],
   "source": [
    "\n",
    "B, pitch = get_B_and_pitch(solution_r, solution_phi)\n",
    "plot_pitch(time_grid, spatial_grid, B, pitch)\n",
    "plt.show()\n"
   ]
  },
  {
   "cell_type": "markdown",
   "metadata": {},
   "source": [
    "### Decay rate calculation"
   ]
  },
  {
   "cell_type": "code",
   "execution_count": null,
   "metadata": {},
   "outputs": [],
   "source": [
    "B_mid = np.log(B[int(len(spatial_grid)/2), :])\n",
    "\n",
    "# get the slope of the logplot for the last 20 points\n",
    "t_fit = time_grid[-50:]\n",
    "B_fit = B_mid[-50:]\n",
    "m, c = np.polyfit(t_fit, B_fit, 1)\n",
    "\n",
    "# Plot the magnetic field strength at midplane\n",
    "plt.figure(figsize=(6, 3))\n",
    "plt.plot(time_grid, B_mid)\n",
    "plt.plot(t_fit, B_fit, 'o', label=r'Slope ($\\gamma$) = {:.3e}'.format(m))\n",
    "plt.xlabel('Time (Myr)')\n",
    "plt.ylabel('Magnetic Field Strength at midplane')\n",
    "plt.title('B at midplane')\n",
    "plt.grid()\n",
    "plt.legend()\n",
    "plt.show()\n"
   ]
  },
  {
   "cell_type": "markdown",
   "metadata": {},
   "source": [
    "#### 3.3.3 - Arbitrary initial condition\n",
    "Now let us move to a cmopletely arbitrary type of initial magnetic field. Consider the following profile"
   ]
  },
  {
   "cell_type": "code",
   "execution_count": null,
   "metadata": {},
   "outputs": [],
   "source": [
    "def init_cond_Br(x):\n",
    "    return 0.75 - 0.5*x**2 + 0.25*np.cos(5*np.pi*x)\n",
    "def init_cond_Bphi(x):\n",
    "    return 2*x*np.sin(np.pi*x)\n",
    "\n",
    "plt.figure(figsize=(11, 3.5))\n",
    "\n",
    "z = np.linspace(-1, 1, 100)\n",
    "plt.subplot(121)\n",
    "plt.plot(z, init_cond_Br(z))\n",
    "plt.xlabel(r'$z$')\n",
    "plt.ylabel(r'$B_r$')\n",
    "plt.title(r'Arbitrary seed field '+'\\n'+r'$ y = 0.75 - 0.5x^2 + 0.25\\cos(5\\pi x)$')\n",
    "\n",
    "plt.subplot(122)\n",
    "plt.plot(z, init_cond_Bphi(z))\n",
    "plt.xlabel(r'$z$')\n",
    "plt.ylabel(r'$B_{\\phi}$')\n",
    "plt.title(r'Algebraic-sinusoidal seed field '+'\\n'+r'$ y = -2x\\sin(2\\pi x)$')\n",
    "\n",
    "plt.suptitle('INITIAL CONDITIONS FOR MAGNETIC FIELD COMPONENTS')\n",
    "plt.tight_layout(pad=1)\n",
    "plt.show()"
   ]
  },
  {
   "cell_type": "code",
   "execution_count": null,
   "metadata": {},
   "outputs": [],
   "source": [
    "def source_term(x, t):\n",
    "    return 0 # 10 * np.sin(np.pi * x) * np.exp(-0.1 * t)\n",
    "\n",
    "# Constants and parameters\n",
    "eta_T = 3.48e-3    # magnetic diffusivity\n",
    "t_max = 200     # total simulation time\n",
    "z_min = -1.0     # minimum thickness of the disc\n",
    "z_max = 1.0     # thickness of the disc\n",
    "dt = 0.5       # time step\n",
    "dz = 0.01       # spatial step in z direction\n",
    "\n",
    "# Solve the diffusion equation in radial direction\n",
    "solution_r, spatial_grid, time_grid = crank_nicolson_diffusion(z_min, z_max, t_max, dz, dt, eta_T, init_cond_Br, source_term, diff_matrix_free_boundary)\n",
    "# Solve the diffusion equation in azimuthal direction\n",
    "solution_phi, spatial_grid, time_grid = crank_nicolson_diffusion(z_min, z_max, t_max, dz, dt, eta_T, init_cond_Bphi, source_term, diff_matrix_free_boundary)\n",
    "\n",
    "# Plot the diffusion equation solution\n",
    "plot_diff(time_grid, spatial_grid, solution_r, solution_phi)\n",
    "\n",
    "plt.show()\n"
   ]
  },
  {
   "cell_type": "markdown",
   "metadata": {},
   "source": [
    "### Calculation of magnitude of B and pitch angle"
   ]
  },
  {
   "cell_type": "code",
   "execution_count": null,
   "metadata": {},
   "outputs": [],
   "source": [
    "\n",
    "B, pitch = get_B_and_pitch(solution_r, solution_phi)\n",
    "plot_pitch(time_grid, spatial_grid, B, pitch)\n",
    "plt.show()\n"
   ]
  },
  {
   "cell_type": "markdown",
   "metadata": {},
   "source": [
    "### Decay rate calculation"
   ]
  },
  {
   "cell_type": "code",
   "execution_count": null,
   "metadata": {},
   "outputs": [],
   "source": [
    "B_mid = np.log(B[int(len(spatial_grid)/2), :])\n",
    "\n",
    "# get the slope of the logplot for the last 20 points\n",
    "t_fit = time_grid[-50:]\n",
    "B_fit = B_mid[-50:]\n",
    "m, c = np.polyfit(t_fit, B_fit, 1)\n",
    "\n",
    "# Plot the magnetic field strength at midplane\n",
    "plt.figure(figsize=(6, 3))\n",
    "plt.plot(time_grid, B_mid)\n",
    "plt.plot(t_fit, B_fit, 'o', label=r'Slope ($\\gamma$) = {:.3e}'.format(m))\n",
    "plt.xlabel('Time (Myr)')\n",
    "plt.ylabel('Magnetic Field Strength at midplane')\n",
    "plt.title('B at midplane')\n",
    "plt.grid()\n",
    "plt.legend()\n",
    "plt.show()\n"
   ]
  },
  {
   "cell_type": "code",
   "execution_count": null,
   "metadata": {},
   "outputs": [],
   "source": []
  }
 ],
 "metadata": {
  "kernelspec": {
   "display_name": "Python 3 (ipykernel)",
   "language": "python",
   "name": "python3"
  },
  "language_info": {
   "codemirror_mode": {
    "name": "ipython",
    "version": 3
   },
   "file_extension": ".py",
   "mimetype": "text/x-python",
   "name": "python",
   "nbconvert_exporter": "python",
   "pygments_lexer": "ipython3",
   "version": "3.10.12"
  }
 },
 "nbformat": 4,
 "nbformat_minor": 2
}
