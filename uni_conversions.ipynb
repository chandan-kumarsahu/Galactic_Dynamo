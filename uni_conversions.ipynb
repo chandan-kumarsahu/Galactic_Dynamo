{
 "cells": [
  {
   "cell_type": "code",
   "execution_count": 18,
   "metadata": {},
   "outputs": [
    {
     "name": "stdout",
     "output_type": "stream",
     "text": [
      "h = 9.52e+34 m\n",
      "eta = 1.05e+22 m^2/s\n",
      "alpha = 1.00e+03 m/s\n",
      "Omega = 9.72e-16 km/s/kpc\n"
     ]
    }
   ],
   "source": [
    "PC = 3.086e16               # m\n",
    "KPC = 1e3 * PC              # m\n",
    "MYRS = 1e6*365.25*24*3600   # s\n",
    "\n",
    "h = 100*PC                     # pc\n",
    "eta = 1.05e22                  # m^2/s\n",
    "alpha = 1e3                 # m/s\n",
    "Omega = 30                  # km/s/kpc\n",
    "Omega = Omega * 1e3 / KPC   # s^-1\n",
    "\n",
    "print(\"h = {:.2e} m\".format(h*PC))\n",
    "print(\"eta = {:.2e} m^2/s\".format(eta))\n",
    "print(\"alpha = {:.2e} m/s\".format(alpha))\n",
    "print(\"Omega = {:.2e} km/s/kpc\".format(Omega))\n",
    "\n"
   ]
  },
  {
   "cell_type": "code",
   "execution_count": 17,
   "metadata": {},
   "outputs": [
    {
     "name": "stdout",
     "output_type": "stream",
     "text": [
      "eta = 3.48e-02 hpc^2/Myr\n",
      "alpha = 1.02e-02 hpc/Myr\n",
      "Omega = 3.07e-02 1/Myr\n"
     ]
    }
   ],
   "source": [
    "\n",
    "print(\"eta = {:.2e} hpc^2/Myr\".format(eta / h**2 * MYRS))\n",
    "print(\"alpha = {:.2e} hpc/Myr\".format(alpha / h * MYRS))\n",
    "print(\"Omega = {:.2e} 1/Myr\".format(Omega*MYRS))\n"
   ]
  },
  {
   "cell_type": "code",
   "execution_count": null,
   "metadata": {},
   "outputs": [],
   "source": []
  }
 ],
 "metadata": {
  "kernelspec": {
   "display_name": "Python 3",
   "language": "python",
   "name": "python3"
  },
  "language_info": {
   "codemirror_mode": {
    "name": "ipython",
    "version": 3
   },
   "file_extension": ".py",
   "mimetype": "text/x-python",
   "name": "python",
   "nbconvert_exporter": "python",
   "pygments_lexer": "ipython3",
   "version": "3.10.12"
  }
 },
 "nbformat": 4,
 "nbformat_minor": 2
}
